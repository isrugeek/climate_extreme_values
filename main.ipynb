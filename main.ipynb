{
 "cells": [
  {
   "cell_type": "code",
   "execution_count": null,
   "metadata": {},
   "outputs": [],
   "source": [
    "%load_ext autoreload\n",
    "%autoreload 2\n",
    "import os\n",
    "import warnings\n",
    "warnings.filterwarnings(\"ignore\")\n",
    "import matplotlib.pyplot as plt\n",
    "import pandas as pd\n",
    "import numpy as np\n",
    "import torch\n",
    "from train_main import create_dataset\n",
    "from train_main import pre_process\n",
    "import utils\n",
    "from utils import device\n",
    "from models import *\n",
    "import constants\n",
    "from matplotlib.pyplot import savefig\n",
    "import forecaster\n"
   ]
  },
  {
   "cell_type": "markdown",
   "metadata": {},
   "source": [
    "## Batch Scheduler to train"
   ]
  },
  {
   "cell_type": "code",
   "execution_count": null,
   "metadata": {},
   "outputs": [],
   "source": [
    "## !sbatch --gres=gpu:titanxp:1 --mem=32G run.sh"
   ]
  },
  {
   "cell_type": "markdown",
   "metadata": {},
   "source": [
    "## Test for latest data points"
   ]
  },
  {
   "cell_type": "code",
   "execution_count": null,
   "metadata": {},
   "outputs": [],
   "source": [
    "df = pd.read_csv('data/weatherstats_montreal_daily_inter.csv',index_col=0)\n",
    "df = pre_process(df[:360], save_plots=True)"
   ]
  },
  {
   "cell_type": "code",
   "execution_count": null,
   "metadata": {},
   "outputs": [],
   "source": [
    "max_v = create_dataset(df[df['Year'] >= 2018], look_back=28, forecast_horizon=15, batch_size=1)"
   ]
  },
  {
   "cell_type": "code",
   "execution_count": null,
   "metadata": {},
   "outputs": [],
   "source": [
    "max_y_plot = []\n",
    "for input_x, max_y, no_z in max_v:\n",
    "    max_y_plot.append(max_y[0][0])"
   ]
  },
  {
   "cell_type": "code",
   "execution_count": null,
   "metadata": {},
   "outputs": [],
   "source": [
    "print (len(max_y_plot))\n",
    "plt.figure(figsize=(16,3.5))\n",
    "plt.title(\"Maxima Temprature per Forecasting Horizon\")\n",
    "plt.xlabel(\"Date/Time\")\n",
    "plt.ylabel(\"Values\")\n",
    "plt.plot(max_y_plot,c=\"red\",alpha=5,label='maxima temprature')\n",
    "\n",
    "plt.legend()"
   ]
  },
  {
   "cell_type": "code",
   "execution_count": null,
   "metadata": {},
   "outputs": [],
   "source": [
    "plt.figure(1,figsize=(7,5.5))\n",
    "plt.subplot(211)\n",
    "plt.title('Full time series data',fontsize=14)\n",
    "plt.xlabel(\"Days\",fontsize=14)\n",
    "plt.ylabel(\"Values\",fontsize=14)\n",
    "plt.plot(df[['max_temperature']][:360],'r')\n",
    "\n",
    "\n",
    "plt.subplot(212)\n",
    "plt.title('Maxima Temprature per Forecasting Horizon',fontsize=14)\n",
    "\n",
    "plt.xlabel(\"Forecasting Horizon\",fontsize=14)\n",
    "plt.ylabel(\"Values\",fontsize=14)\n",
    "\n",
    "plt.plot(max_y_plot[:360])\n",
    "\n",
    "plt.tight_layout()\n",
    "from matplotlib.pyplot import savefig\n",
    "savefig('./plots/data_maxi.eps')\n",
    "\n",
    "plt.show()\n"
   ]
  },
  {
   "cell_type": "code",
   "execution_count": null,
   "metadata": {},
   "outputs": [],
   "source": [
    "#ax = df[['max_temperature', 'avg_hourly_temperature','avg_temperature','min_temperature']].plot(title='Full Time Series Data',fontsize=13, figsize = (7,2.5))\n"
   ]
  },
  {
   "cell_type": "markdown",
   "metadata": {},
   "source": [
    "## LSTM Forecaster"
   ]
  },
  {
   "cell_type": "code",
   "execution_count": null,
   "metadata": {},
   "outputs": [],
   "source": [
    "ep_loss, mean, rms, lower, upper, mae, acc, test_true_y, test_pred_y = forecaster.LSTMForecaster(df)"
   ]
  },
  {
   "cell_type": "code",
   "execution_count": null,
   "metadata": {},
   "outputs": [],
   "source": [
    "print (rms,mae)"
   ]
  },
  {
   "cell_type": "code",
   "execution_count": null,
   "metadata": {},
   "outputs": [],
   "source": [
    "forecast_fi = {}\n",
    "fn = 0\n",
    "for i in range(0, len(ep_loss), 15):\n",
    "    sp = i\n",
    "    ep = i + 15\n",
    "    forecast_fi[fn] = ep_loss[sp:ep]\n",
    "    fn+=1\n",
    "    \n",
    "\n",
    "fig, axs = plt.subplots(nrows=5, ncols=6, figsize=(20,10 ))\n",
    "\n",
    "for ax, i in zip(axs.flat, forecast_fi):\n",
    "    ax.plot(forecast_fi[i])\n",
    "    ax.set_title(str(i)+\"\\'th Forecasting Cycle Error in oC\")\n",
    "\n",
    "plt.tight_layout()\n",
    "plt.show()\n",
    "# forecast_fi"
   ]
  },
  {
   "cell_type": "code",
   "execution_count": null,
   "metadata": {},
   "outputs": [],
   "source": []
  },
  {
   "cell_type": "code",
   "execution_count": null,
   "metadata": {},
   "outputs": [],
   "source": [
    "fig, ax = plt.subplots(figsize=(7,4))\n",
    "ax.plot(np.array(test_true_y[:100]).reshape(-1),c='blue', label='GT', alpha=5)\n",
    "ax.plot(mean[:100], label='Prediction', c='green', linestyle='--', alpha=5)\n",
    "ax.set(title=\"Maxima Forecasting (LSTM)\", ylabel=\"Max temprature\", xlabel=\"Days\") #ylim=(12.7, 13.8))\n",
    "ax.legend();\n",
    "savefig(\"plots/lstm_pred.eps\")"
   ]
  },
  {
   "cell_type": "code",
   "execution_count": null,
   "metadata": {},
   "outputs": [],
   "source": [
    "pred_fo = {}\n",
    "gt_fo = {}\n",
    "fn = 0\n",
    "for i in range(0, len(mean), 15):\n",
    "    sp = i\n",
    "    ep = i + 15\n",
    "    pred_fo[fn] = mean[sp:ep]\n",
    "    fn+=1\n",
    "fn = 0\n",
    "for i in range(0, len(test_true_y), 15):\n",
    "    sp = i\n",
    "    ep = i + 15\n",
    "    gt_fo[fn] = test_true_y[sp:ep]\n",
    "    fn+=1\n",
    "    \n",
    "\n",
    "fig, axs = plt.subplots(nrows=5, ncols=6, figsize=(20,10 ))\n",
    "\n",
    "for ax, i in zip(axs.flat, pred_fo):\n",
    "    ax.plot(pred_fo[i])\n",
    "    ax.plot(gt_fo[i])\n",
    "    ax.set_title(str(i)+\"\\'th Forecasting Cycle\")\n",
    "\n",
    "plt.tight_layout()\n",
    "plt.show()\n",
    "savefig(\"plots/lstm_forecast_cycle.eps\")"
   ]
  },
  {
   "cell_type": "markdown",
   "metadata": {},
   "source": [
    "## GU-LSTM Forecaster"
   ]
  },
  {
   "cell_type": "code",
   "execution_count": null,
   "metadata": {},
   "outputs": [],
   "source": [
    "ep_loss, mean, rms, lower, upper, mae, acc, test_true_y, test_pred_y = forecaster.LSTMGUForecaster(df)"
   ]
  },
  {
   "cell_type": "code",
   "execution_count": null,
   "metadata": {},
   "outputs": [],
   "source": [
    "print (rms,mae)"
   ]
  },
  {
   "cell_type": "code",
   "execution_count": null,
   "metadata": {},
   "outputs": [],
   "source": [
    "forecast_fi = {}\n",
    "fn = 0\n",
    "for i in range(0, len(ep_loss), 15):\n",
    "    sp = i\n",
    "    ep = i + 15\n",
    "    forecast_fi[fn] = ep_loss[sp:ep]\n",
    "    fn+=1\n",
    "    \n",
    "\n",
    "fig, axs = plt.subplots(nrows=5, ncols=6, figsize=(20,10 ))\n",
    "\n",
    "for ax, i in zip(axs.flat, forecast_fi):\n",
    "    ax.plot(forecast_fi[i])\n",
    "    ax.set_title(str(i)+\"\\'th Forecasting Cycle Error in oC\")\n",
    "\n",
    "plt.tight_layout()\n",
    "plt.show()"
   ]
  },
  {
   "cell_type": "code",
   "execution_count": null,
   "metadata": {},
   "outputs": [],
   "source": [
    "fig, ax = plt.subplots(figsize=(7,4))\n",
    "ax.plot(np.array(test_true_y[:100]).reshape(-1),c='blue', label='GT', alpha=5)\n",
    "ax.plot(mean[:100], label='Prediction', c='green', linestyle='--', alpha=5)\n",
    "ax.set(title=\"Maxima Forecasting (GU+LSTM)\", ylabel=\"Max temprature\", xlabel=\"Days\") #ylim=(12.7, 13.8))\n",
    "ax.legend();\n",
    "savefig(\"plots/gu_lstm_pred.eps\")"
   ]
  },
  {
   "cell_type": "code",
   "execution_count": null,
   "metadata": {},
   "outputs": [],
   "source": [
    "pred_fo = {}\n",
    "gt_fo = {}\n",
    "fn = 0\n",
    "for i in range(0, len(mean), 15):\n",
    "    sp = i\n",
    "    ep = i + 15\n",
    "    pred_fo[fn] = mean[sp:ep]\n",
    "    fn+=1\n",
    "fn = 0\n",
    "for i in range(0, len(test_true_y), 15):\n",
    "    sp = i\n",
    "    ep = i + 15\n",
    "    gt_fo[fn] = test_true_y[sp:ep]\n",
    "    fn+=1\n",
    "    \n",
    "\n",
    "fig, axs = plt.subplots(nrows=5, ncols=6, figsize=(20,10 ))\n",
    "\n",
    "for ax, i in zip(axs.flat, pred_fo):\n",
    "    ax.plot(pred_fo[i])\n",
    "    ax.plot(gt_fo[i])\n",
    "    ax.set_title(str(i)+\"\\'th Forecasting Cycle\")\n",
    "\n",
    "plt.tight_layout()\n",
    "plt.show()\n",
    "savefig(\"plots/gu_lstm_forecast_cycle.eps\")"
   ]
  },
  {
   "cell_type": "markdown",
   "metadata": {},
   "source": [
    "## ENCDEC Forecaster"
   ]
  },
  {
   "cell_type": "code",
   "execution_count": null,
   "metadata": {},
   "outputs": [],
   "source": [
    "ep_loss, mean, rms, lower, upper, mae, acc, test_true_y, test_pred_y = forecaster.ENCDECForecaster(df)"
   ]
  },
  {
   "cell_type": "code",
   "execution_count": null,
   "metadata": {},
   "outputs": [],
   "source": [
    "print (mae,rms)"
   ]
  },
  {
   "cell_type": "code",
   "execution_count": null,
   "metadata": {},
   "outputs": [],
   "source": [
    "fig, ax = plt.subplots(figsize=(7,4))\n",
    "ax.plot(np.array(test_true_y[:100]).reshape(-1),c='blue', label='GT', alpha=5)\n",
    "ax.plot(mean[:100], label='Prediction', c='green', linestyle='--', alpha=5)\n",
    "ax.set(title=\"Maxima Forecasting (ENCDEC LSTM)\", ylabel=\"Max temprature\", xlabel=\"Days\") #ylim=(12.7, 13.8))\n",
    "ax.legend();\n",
    "savefig(\"plots/enc_dec.eps\")"
   ]
  },
  {
   "cell_type": "code",
   "execution_count": null,
   "metadata": {},
   "outputs": [],
   "source": [
    "pred_fo = {}\n",
    "gt_fo = {}\n",
    "fn = 0\n",
    "for i in range(0, len(mean), 15):\n",
    "    sp = i\n",
    "    ep = i + 15\n",
    "    pred_fo[fn] = mean[sp:ep]\n",
    "    fn+=1\n",
    "fn = 0\n",
    "for i in range(0, len(test_true_y), 15):\n",
    "    sp = i\n",
    "    ep = i + 15\n",
    "    gt_fo[fn] = test_true_y[sp:ep]\n",
    "    fn+=1\n",
    "    \n",
    "\n",
    "fig, axs = plt.subplots(nrows=5, ncols=6, figsize=(20,10 ))\n",
    "\n",
    "for ax, i in zip(axs.flat, pred_fo):\n",
    "    ax.plot(pred_fo[i])\n",
    "    ax.plot(gt_fo[i])\n",
    "    ax.set_title(str(i)+\"\\'th Forecasting Cycle\")\n",
    "\n",
    "plt.tight_layout()\n",
    "savefig(\"plots/enc_dec_forecast_cycle.eps\")\n",
    "plt.show()"
   ]
  },
  {
   "cell_type": "code",
   "execution_count": null,
   "metadata": {},
   "outputs": [],
   "source": []
  }
 ],
 "metadata": {
  "kernelspec": {
   "display_name": "Python 3",
   "language": "python",
   "name": "python3"
  },
  "language_info": {
   "codemirror_mode": {
    "name": "ipython",
    "version": 3
   },
   "file_extension": ".py",
   "mimetype": "text/x-python",
   "name": "python",
   "nbconvert_exporter": "python",
   "pygments_lexer": "ipython3",
   "version": "3.6.8"
  }
 },
 "nbformat": 4,
 "nbformat_minor": 2
}
